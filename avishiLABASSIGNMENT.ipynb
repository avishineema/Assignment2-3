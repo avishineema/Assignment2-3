{
 "cells": [
  {
   "cell_type": "code",
   "execution_count": null,
   "metadata": {},
   "outputs": [],
   "source": []
  },
  {
   "cell_type": "code",
   "execution_count": 1,
   "metadata": {},
   "outputs": [
    {
     "name": "stdout",
     "output_type": "stream",
     "text": [
      "MONTHS : January, February, March, April, May, June, July, August, September, October, November, December\n",
      "Input the name of Month: May\n",
      "No. of days : 31 days\n"
     ]
    }
   ],
   "source": [
    "# LAB ASSIGNMENT 2\n",
    "\n",
    "print(\"MONTHS : January, February, March, April, May, June, July, August, September, October, November, December\")\n",
    "monthname = input(\"Input the name of Month: \")\n",
    "\n",
    "if monthname in (\"April\", \"June\", \"September\", \"November\"):\n",
    "    print(\"No. of days : 30 days\")\n",
    "elif monthname in (\"January\", \"March\", \"May\", \"July\", \"August\", \"October\", \"December\"):\n",
    "    print(\"No. of days : 31 days\")\n",
    "elif monthname == \"February\":\n",
    "    print(\"No. of days : 28/29 days\")\n",
    "else:\n",
    "    print(\"Wrong month name\")"
   ]
  },
  {
   "cell_type": "code",
   "execution_count": null,
   "metadata": {},
   "outputs": [],
   "source": []
  },
  {
   "cell_type": "code",
   "execution_count": null,
   "metadata": {},
   "outputs": [],
   "source": []
  }
 ],
 "metadata": {
  "kernelspec": {
   "display_name": "Python 3",
   "language": "python",
   "name": "python3"
  },
  "language_info": {
   "codemirror_mode": {
    "name": "ipython",
    "version": 3
   },
   "file_extension": ".py",
   "mimetype": "text/x-python",
   "name": "python",
   "nbconvert_exporter": "python",
   "pygments_lexer": "ipython3",
   "version": "3.8.3"
  }
 },
 "nbformat": 4,
 "nbformat_minor": 4
}
